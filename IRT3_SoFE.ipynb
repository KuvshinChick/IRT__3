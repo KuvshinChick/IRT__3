{
 "cells": [
  {
   "cell_type": "markdown",
   "source": [
    "## Матричный метод решения СЛАУ"
   ],
   "metadata": {
    "collapsed": false,
    "pycharm": {
     "name": "#%% md\n"
    }
   }
  },
  {
   "cell_type": "markdown",
   "source": [
    "Пусть дана система линейных уравнений с n неизвестными:\n",
    "$$\n",
    "\\begin{align}\n",
    "\\begin{cases}\n",
    "\\\\ a_1_1x_1 + ... +  a_1_nx_n = b_1;\n",
    "\\\\ ................\n",
    "\\\\  a_n_1x_1 + ... +  a_n_nx_n = b_n;\n",
    "\\end{cases}\n",
    "\\end{align}\n",
    "$$\n",
    "Её можно переписать в матричной форме: AX = B, где A — основная матрица системы, B и X — столбцы свободных членов и решений системы соответственно:\n",
    "$$ A = \\begin{pmatrix} a_1_1 & a_1_2 & ... & a_1_n \\\\ a_2_1 & a_2_2 & ... & a_2_n \\\\ ... & ... & ... & ... \\\\ a_n_1 & a_n_2 & ... & a_n_n \\end{pmatrix}$$\n",
    "$$ B = \\begin{pmatrix} b_1 \\\\ b_2 \\\\ ... \\\\ b_n \\end{pmatrix}$$\n",
    "$$ X= \\begin{pmatrix} x_1 \\\\ x_2 \\\\ ... \\\\ x_n \\end{pmatrix}$$\n",
    "\n",
    "Умножим это матричное уравнение слева на A-1 — матрицу, обратную к матрице A:  A-1 (AX) = A-1 B\n",
    "\n",
    "Так как A-1A = E, получаем X = A-1B. Правая часть этого уравнения даст столбец решений исходной системы. Условием применимости данного метода (как и вообще существования решения неоднородной системы линейных уравнений с числом уравнений, равным числу неизвестных) является невырожденность матрицы A. Необходимым и достаточным условием этого является неравенство нулю определителя матрицы A: detA≠ 0."
   ],
   "metadata": {
    "collapsed": false,
    "pycharm": {
     "name": "#%% md\n"
    }
   }
  },
  {
   "cell_type": "markdown",
   "source": [
    "Пример решения неоднородной системы линейных алгебраических уравнений:\n",
    "$$\n",
    "\\begin{align}\n",
    "\\begin{cases}\n",
    "\\\\ 3x + 2y -  z = 4;\n",
    "\\\\ 2x -  y + 5z = 23;\n",
    "\\\\  x + 7y -  z = 5;\n",
    "\\end{cases}\n",
    "\\end{align}\n",
    "$$\n",
    "\n",
    "$$ A = \\begin{pmatrix} 2 & 3 & -1 \\\\ 2 & -1 & 5 \\\\ 1 & 7 &  -1 \\end{pmatrix}$$\n",
    "$$ B = \\begin{pmatrix} 4 \\\\ 23 \\\\ 5 \\end{pmatrix}$$\n",
    "$$ X= \\begin{pmatrix} x_1 \\\\ x_2 \\\\ x_3 \\end{pmatrix}$$\n",
    "\n",
    "Убедимся в том, что определитель матрицы, составленный из коэффициентов при неизвестных системы линейных алгебраических уравнений не равен нулю.\n"
   ],
   "metadata": {
    "collapsed": false,
    "pycharm": {
     "name": "#%% md\n"
    }
   }
  },
  {
   "cell_type": "code",
   "execution_count": 130,
   "outputs": [
    {
     "name": "stdout",
     "output_type": "stream",
     "text": [
      "Определитель матрицы:  -103.00000000000001\n"
     ]
    }
   ],
   "source": [
    "import numpy as np\n",
    "A = np.matrix('3 2 -1; 2 -1 5; 1 7 -1')\n",
    "B = np.matrix('4; 23; 5')\n",
    "print(\"Определитель матрицы: \",np.linalg.det(A))"
   ],
   "metadata": {
    "collapsed": false,
    "pycharm": {
     "name": "#%%\n"
    }
   }
  },
  {
   "cell_type": "markdown",
   "source": [
    "Найдем обратную матрицу:"
   ],
   "metadata": {
    "collapsed": false,
    "pycharm": {
     "name": "#%% md\n"
    }
   }
  },
  {
   "cell_type": "code",
   "execution_count": 131,
   "outputs": [
    {
     "name": "stdout",
     "output_type": "stream",
     "text": [
      "Обратная матрица: \n",
      "[[ 0.33009709  0.04854369 -0.08737864]\n",
      " [-0.06796117  0.01941748  0.16504854]\n",
      " [-0.14563107  0.18446602  0.06796117]]\n"
     ]
    }
   ],
   "source": [
    "A_inv = np.linalg.inv(A)\n",
    "print(\"Обратная матрица: \")\n",
    "print(A_inv)"
   ],
   "metadata": {
    "collapsed": false,
    "pycharm": {
     "name": "#%%\n"
    }
   }
  },
  {
   "cell_type": "markdown",
   "source": [
    "Найдем неизвестные. Для этого перемножим обратную матрицу  и столбец свободных членов."
   ],
   "metadata": {
    "collapsed": false,
    "pycharm": {
     "name": "#%% md\n"
    }
   }
  },
  {
   "cell_type": "code",
   "execution_count": 132,
   "outputs": [
    {
     "name": "stdout",
     "output_type": "stream",
     "text": [
      "Решение системы: \n",
      "[[2.]\n",
      " [1.]\n",
      " [4.]]\n"
     ]
    }
   ],
   "source": [
    "X = A_inv.dot(B)\n",
    "print(\"Решение системы: \")\n",
    "print(X)"
   ],
   "metadata": {
    "collapsed": false,
    "pycharm": {
     "name": "#%%\n"
    }
   }
  },
  {
   "cell_type": "markdown",
   "source": [
    "## Метод Крамера решения СЛАУ"
   ],
   "metadata": {
    "collapsed": false,
    "pycharm": {
     "name": "#%% md\n"
    }
   }
  },
  {
   "cell_type": "markdown",
   "source": [
    "Пусть дана система линейных уравнений с n неизвестными:\n",
    "$$\n",
    "\\begin{align}\n",
    "\\begin{cases}\n",
    "\\\\ a_1_1x_1 + ... +  a_1_nx_n = b_1;\n",
    "\\\\ ................\n",
    "\\\\  a_n_1x_1 + ... +  a_n_nx_n = b_n;\n",
    "\\end{cases}\n",
    "\\end{align}\n",
    "$$\n",
    "Шаг 1. Вычисляем главный определитель матрицы:\n",
    "$$\n",
    "△ = \\begin{pmatrix} a_1_1 & a_1_2 & ... & a_1_n \\\\ a_2_1 & a_2_2 & ... & a_2_n \\\\ ... & ... & ... & ... \\\\ a_n_1 & a_n_2 & ... & a_n_n \\end{pmatrix}\n",
    "$$\n",
    "Шаг 2. Находим определители\n",
    "$$\n",
    "△x = \\begin{pmatrix} b_1 & a_1_2 & ... & a_1_n \\\\ b_2 & a_2_2 & ... & a_2_n \\\\ ... & ... & ... & ... \\\\ b_n & a_n_2 & ... & a_n_n \\end{pmatrix}\n",
    "$$\n",
    "$$\n",
    "△y = \\begin{pmatrix} a_1_1 & b_1 & ... & a_1_n \\\\ a_2_1 & b_2 & ... & a_2_n \\\\ ... & ... & ... & ... \\\\ a_n_1 & b_3 & ... & a_n_n \\end{pmatrix}\n",
    "$$\n",
    "$$\n",
    "△z = \\begin{pmatrix} a_1_1 & a_1_2 & ... & b_1 \\\\ a_2_1 & a_2_2 & ... & n_2 \\\\ ... & ... & ... & ... \\\\ a_n_1 & a_n_2 & ... & b_n \\end{pmatrix}\n",
    "$$\n",
    "Это определители матриц, которые получаются из матрицы A при замене столбцов на свободные члены.\n",
    "\n",
    "Шаг 3. Вычисляем неизвестные переменные\n",
    "Формулы Крамера, по которым вычисляем корни (неизвестные переменные):\n",
    "$$\n",
    "\\begin{align}\n",
    "x = \\frac{△x}{△},  y = \\frac{△y}{△},   z = \\frac{△z}{△}\n",
    "\\end{align}\n",
    "$$"
   ],
   "metadata": {
    "collapsed": false,
    "pycharm": {
     "name": "#%% md\n"
    }
   }
  },
  {
   "cell_type": "markdown",
   "source": [
    "Пример решения неоднородной системы линейных алгебраических уравнений:\n",
    "$$\n",
    "\\begin{align}\n",
    "\\begin{cases}\n",
    "\\\\ 3x + 2y -  z = 4;\n",
    "\\\\ 2x -  y + 5z = 23;\n",
    "\\\\  x + 7y -  z = 5;\n",
    "\\end{cases}\n",
    "\\end{align}\n",
    "$$\n",
    "\n",
    "Шаг 1. Вычисляем главный определитель матрицы:"
   ],
   "metadata": {
    "collapsed": false,
    "pycharm": {
     "name": "#%% md\n"
    }
   }
  },
  {
   "cell_type": "code",
   "execution_count": 133,
   "outputs": [
    {
     "name": "stdout",
     "output_type": "stream",
     "text": [
      "Основная матрица: \n",
      "[[ 3  2 -1]\n",
      " [ 2 -1  5]\n",
      " [ 1  7 -1]]\n",
      "Определитель основной матрицы:  -103.0\n"
     ]
    }
   ],
   "source": [
    "print(\"Основная матрица: \")\n",
    "print(A)\n",
    "det_A = round(np.linalg.det(A),0)\n",
    "print(\"Определитель основной матрицы: \", det_A)"
   ],
   "metadata": {
    "collapsed": false,
    "pycharm": {
     "name": "#%%\n"
    }
   }
  },
  {
   "cell_type": "markdown",
   "source": [
    "Шаг 2. Находим определители\n",
    "Шаг 3. Вычисляем неизвестные переменные"
   ],
   "metadata": {
    "collapsed": false,
    "pycharm": {
     "name": "#%% md\n"
    }
   }
  },
  {
   "cell_type": "code",
   "execution_count": 134,
   "outputs": [
    {
     "name": "stdout",
     "output_type": "stream",
     "text": [
      "Матрица A при замене 1го столбца на свободные члены: \n",
      "[[ 4  2 -1]\n",
      " [23 -1  5]\n",
      " [ 5  7 -1]]\n",
      "Определитель:  -206\n",
      "Неизвестная переменная:  2.0\n",
      "Матрица A при замене 2го столбца на свободные члены: \n",
      "[[ 3  4 -1]\n",
      " [ 2 23  5]\n",
      " [ 1  5 -1]]\n",
      "Определитель:  -103\n",
      "Неизвестная переменная:  1.0\n",
      "Матрица A при замене 3го столбца на свободные члены: \n",
      "[[ 3  2  4]\n",
      " [ 2 -1 23]\n",
      " [ 1  7  5]]\n",
      "Определитель:  -412\n",
      "Неизвестная переменная:  4.0\n",
      "_______________________\n",
      "Ответ:  [2.0, 1.0, 4.0]\n"
     ]
    }
   ],
   "source": [
    "k = 0 # счетчик\n",
    "res = []\n",
    "while k < len(A):\n",
    "    A_temp = A.copy() # копируем изначальный массив\n",
    "    A_temp[0:,k] = B # меняем в основной матрице столбец\n",
    "    print(f\"Матрица A при замене {k+1}го столбца на свободные члены: \")\n",
    "    print(A_temp)\n",
    "    det_temp = round(np.linalg.det(A_temp))\n",
    "    print(\"Определитель: \",det_temp)\n",
    "    A_res = det_temp/det_A\n",
    "    print(\"Неизвестная переменная: \",A_res)\n",
    "    res.append(A_res)\n",
    "    k += 1\n",
    "print(\"_______________________\")\n",
    "print(\"Ответ: \",res)"
   ],
   "metadata": {
    "collapsed": false,
    "pycharm": {
     "name": "#%%\n"
    }
   }
  }
 ],
 "metadata": {
  "kernelspec": {
   "display_name": "Python 3",
   "language": "python",
   "name": "python3"
  },
  "language_info": {
   "codemirror_mode": {
    "name": "ipython",
    "version": 2
   },
   "file_extension": ".py",
   "mimetype": "text/x-python",
   "name": "python",
   "nbconvert_exporter": "python",
   "pygments_lexer": "ipython2",
   "version": "2.7.6"
  }
 },
 "nbformat": 4,
 "nbformat_minor": 0
}